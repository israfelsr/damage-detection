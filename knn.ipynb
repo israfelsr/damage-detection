{
 "cells" : [
  {
   "cell_type" : "markdown",
   "metadata" : {
    "collapsed" : true,
    "pycharm" : {
     "name" : "#%% md\n"
    }
   },
   "source" : [
    "# k-Nearest Neighbors Classification\n",
    "\n",
    "This notebooks uses a simple kNN classifier that segmented the image detecting between damage and not damage.\n",
    "Image segmentation follows the following propierties:\n",
    "- Pixels from the same regions have similar greyscale of multivariate values.\n",
    "- Adjacent pixels present in different regions have different values.\n",
    "\n",
    "Also some of the hypterparaters of the kNN classifier to have in account are:\n",
    "- Value of k. Number of neighbours.\n",
    "- Measire of a distance (eg. Euclidean, Manhattan).\n",
    "- If ussing Soft-kNN, way to combine the information of more than one observation\n",
    "- Dominance of points (equally weighted or some points are dominating).\n",
    "\n",
    "For this excercise we will use the euclidean distance and we will use cross-validation to find the best k. \n",
    "We will also try to compare how data preprocessing will affect the performance of the classifier.\n",
    "\n",
    "### Set Up"
   ]
  },
  {
   "cell_type" : "code",
   "execution_count" : 1,
   "metadata" : {
    "pycharm" : {
     "name" : "#%%\n"
    }
   },
   "outputs" : [ ],
   "source" : [
    "# Common imports\n",
    "import random\n",
    "import numpy as np\n",
    "from utils.data_utils import load_data\n",
    "\n",
    "# Nice plots\n",
    "%matplotlib inline \n",
    "import matplotlib\n",
    "import matplotlib.pyplot as plt\n",
    "plt.rcParams['axes.labelsize'] = 14\n",
    "plt.rcParams['xtick.labelsize'] = 12\n",
    "plt.rcParams['ytick.labelsize'] = 12\n",
    "\n",
    "# Keep notebook stable across the run\n",
    "np.random.seed(42)"
   ]
  },
  {
   "cell_type" : "markdown",
   "metadata" : { },
   "source" : [
    "### Load data"
   ]
  },
  {
   "cell_type" : "code",
   "execution_count" : 7,
   "metadata" : { },
   "outputs" : [
    {
     "name" : "stdout",
     "output_type" : "stream",
     "text" : [
      "Training data shape:  (2400, 51, 71)\n",
      "Training labels shape:  (2400, 51, 71)\n",
      "Test data shape:  (600, 51, 71)\n",
      "Test labels shape:  (600, 51, 71)\n"
     ]
    }
   ],
   "source" : [
    "filename = 'datasets/Deltas3.mat'\n",
    "\n",
    "# This is a precaution: clean the data before start using it\n",
    "try:\n",
    "    del X_train, y_train\n",
    "    del X_test, y_test\n",
    "except:\n",
    "    pass\n",
    "\n",
    "# load_data\n",
    "X_train, X_test, y_train, y_test = load_data(filename)\n",
    "\n",
    "print('Training data shape: ', X_train.shape)\n",
    "print('Training labels shape: ', y_train.shape)\n",
    "print('Test data shape: ', X_test.shape)\n",
    "print('Test labels shape: ', y_test.shape)"
   ]
  },
  {
   "cell_type" : "markdown",
   "metadata" : { },
   "source" : [
    "### Exploring the data"
   ]
  },
  {
   "cell_type" : "code",
   "execution_count" : 3,
   "metadata" : { },
   "outputs" : [ ],
   "source" : [
    "#Some usefull functions to plot the images.\n",
    "from utils.visualization_utils import plot_image\n",
    "\n",
    "\n",
    "def plot_gray_image(image):\n",
    "    plt.imshow(image, cmap='gray', interpolation='nearest')\n",
    "    plt.axis('off')\n",
    "    \n",
    "def plot_color_image(image):\n",
    "    plt.imshow(image.astype(np.unit8), interpolation='nearest')\n",
    "    plt.axis('off')\n",
    "\n",
    "def plot_image(image, color=False, reshape=False):\n",
    "    if reshape:\n",
    "        image = np.reshape(image, (51,71))\n",
    "    if color:\n",
    "        plot_color_image(image)\n",
    "    else:\n",
    "        plot_gray_image(image)"
   ]
  },
  {
   "cell_type" : "code",
   "execution_count" : 21,
   "metadata" : { },
   "outputs" : [
    {
     "data" : {
      "image/png" : "[encoded data removed]",
      "text/plain" : [
       "<Figure size 432x576 with 6 Axes>"
      ]
     },
     "metadata" : {
      "needs_background" : "light"
     },
     "output_type" : "display_data"
    }
   ],
   "source" : [
    "# Explore some data and their corresponding ground truth\n",
    "from utils.visualization_utils import plot_image\n",
    "\n",
    "some_images = np.random.randint(2400, size=(3))\n",
    "plt.figure(figsize=(6, 8))\n",
    "for i in range(1,4):\n",
    "    plt.subplot(3,2,2*i-1)\n",
    "    plot_image(X_train[some_images[i-1]])\n",
    "    if i == 1:\n",
    "        plt.title('Index of damage')\n",
    "    plt.subplot(3,2,2*i)\n",
    "    plot_image(y_train[some_images[i-1]])\n",
    "    if i == 1:\n",
    "        plt.title('Damage')\n",
    "plt.show()"
   ]
  },
  {
   "cell_type" : "markdown",
   "metadata" : { },
   "source" : [
    "## Data Preprocessing \n",
    "\n",
    "In this first study we will just subsample the data for a quick run and vectorize the matrices."
   ]
  },
  {
   "cell_type" : "code",
   "execution_count" : 23,
   "metadata" : { },
   "outputs" : [ ],
   "source" : [
    "# Preprocessing: Subsample the data for more efficient code execution in this exercise\n",
    "num_test = 50\n",
    "mask = list(range(num_test))\n",
    "X_test = X_test[mask]\n",
    "y_test = y_test[mask]"
   ]
  },
  {
   "cell_type" : "code",
   "execution_count" : 25,
   "metadata" : { },
   "outputs" : [
    {
     "name" : "stdout",
     "output_type" : "stream",
     "text" : [
      "(2400, 3621) (50, 3621)\n",
      "(2400, 3621) (50, 3621)\n"
     ]
    }
   ],
   "source" : [
    "# Preprocessing: Reshape the image data into rows\n",
    "X_train = np.reshape(X_train, (X_train.shape[0], -1))\n",
    "X_test = np.reshape(X_test, (X_test.shape[0], -1))\n",
    "y_train = np.reshape(y_train, (y_train.shape[0], -1))\n",
    "y_test = np.reshape(y_test, (y_test.shape[0], -1))\n",
    "print(X_train.shape, X_test.shape)\n",
    "print(y_train.shape, y_test.shape)"
   ]
  },
  {
   "cell_type" : "code",
   "execution_count" : 33,
   "metadata" : { },
   "outputs" : [ ],
   "source" : [
    "# Preprocessing: Normalizing the data\n",
    "from sklearn.preprocessing import Normalizer\n",
    "\n",
    "# Create an instance of the normilizer\n",
    "normalizer = Normalizer().fit(X_train)\n",
    "\n",
    "# Fit the data\n",
    "X_train = normalizer.transform(X_train)\n",
    "X_test = normalizer.transform(X_test)"
   ]
  },
  {
   "cell_type" : "markdown",
   "metadata" : { },
   "source" : [
    "Now, the data is ready to be passed trought a classifier. We will try to use the kNN to classify whether a pixel in an index image is part of the damage zone or not. Just remember that this classifier consist in two steps:\n",
    "- It calculates the distance between the analized pixel and the training data.\n",
    "- Then, it choose the label comparing with the k nearest neighbors.\n",
    "\n",
    "As we want an output the same size of the image we implemented the kNN in a little different way to the typical one. We calculate the distance pixel-wise so at the end of the process each pixel in a test image has a distance to all the pixels in the same position of the training data. As you can imagine, this process is computational expensive that's why we use such a small amount of test data.\n",
    "\n",
    "Note that this is one of the main problems of kNN. Since the trainig function is a constant process, the predict function computation grows as we increase the test set."
   ]
  },
  {
   "cell_type" : "code",
   "execution_count" : 34,
   "metadata" : { },
   "outputs" : [
    {
     "data" : {
      "text/plain" : [
       "(50, 2400, 3621)"
      ]
     },
     "execution_count" : 34,
     "metadata" : { },
     "output_type" : "execute_result"
    }
   ],
   "source" : [
    "from classifiers.k_nearest_neighbor import KNearestNeighbor\n",
    "knn_clf = KNearestNeighbor()\n",
    "knn_clf.train(X_train, y_train)\n",
    "\n",
    "dists = knn_clf.predict(X_test)\n",
    "dists.shape"
   ]
  },
  {
   "cell_type" : "code",
   "execution_count" : 35,
   "metadata" : { },
   "outputs" : [
    {
     "name" : "stdout",
     "output_type" : "stream",
     "text" : [
      "10 EPOCH\n",
      "20 EPOCH\n",
      "30 EPOCH\n",
      "40 EPOCH\n",
      "50 EPOCH\n"
     ]
    }
   ],
   "source" : [
    "# Now implement the function predict_labels and run the code below:\n",
    "# We use k = 1 (which is Nearest Neighbor).\n",
    "\n",
    "y_pred = knn_clf.predict_labels(dists, k=1)"
   ]
  },
  {
   "cell_type" : "code",
   "execution_count" : 36,
   "metadata" : { },
   "outputs" : [
    {
     "data" : {
      "image/png" : "[encoded data removed]",
      "text/plain" : [
       "<Figure size 576x864 with 3 Axes>"
      ]
     },
     "metadata" : {
      "needs_background" : "light"
     },
     "output_type" : "display_data"
    }
   ],
   "source" : [
    "# Let's see the result of the 1-NN\n",
    "\n",
    "some_image = 6\n",
    "plt.figure(figsize=(8,12))\n",
    "plt.subplot(1,3,1)\n",
    "plot_image(np.reshape(X_test[some_image],(51,71)))\n",
    "plt.subplot(1,3,2)\n",
    "plot_image(np.reshape(y_test[some_image],(51,71)))\n",
    "plt.subplot(1,3,3)\n",
    "plot_image(np.reshape(y_pred[some_image],(51,71)))"
   ]
  },
  {
   "cell_type" : "markdown",
   "metadata" : { },
   "source" : [
    "To evaluate the performance of the classifier we will use the intersection over union value. This is defined by:\n",
    "$$\n",
    "IoU = \\frac{TP}{FP+TP+FN}\n",
    "$$"
   ]
  },
  {
   "cell_type" : "code",
   "execution_count" : 37,
   "metadata" : { },
   "outputs" : [
    {
     "data" : {
      "text/plain" : [
       "0.4454083531843866"
      ]
     },
     "execution_count" : 37,
     "metadata" : { },
     "output_type" : "execute_result"
    }
   ],
   "source" : [
    "true_positive = np.sum(np.where(y_pred + y_test == 2, 1, 0), axis = 1)\n",
    "false_positive = np.sum(np.where(y_pred - y_test == 1, 1, 0), axis = 1)\n",
    "false_negative = np.sum(np.where(y_pred - y_test == -1, 1, 0), axis = 1)\n",
    "\n",
    "iou = true_positive / (false_positive + true_positive + false_negative)\n",
    "np.mean(iou)"
   ]
  },
  {
   "cell_type" : "code",
   "execution_count" : 38,
   "metadata" : { },
   "outputs" : [
    {
     "name" : "stdout",
     "output_type" : "stream",
     "text" : [
      "10 EPOCH\n",
      "20 EPOCH\n",
      "30 EPOCH\n",
      "40 EPOCH\n",
      "50 EPOCH\n"
     ]
    }
   ],
   "source" : [
    "y_pred = knn_clf.predict_labels(dists, k=5)"
   ]
  },
  {
   "cell_type" : "code",
   "execution_count" : 59,
   "metadata" : { },
   "outputs" : [
    {
     "data" : {
      "image/png" : "[encoded data removed]",
      "text/plain" : [
       "<Figure size 576x864 with 3 Axes>"
      ]
     },
     "metadata" : {
      "needs_background" : "light"
     },
     "output_type" : "display_data"
    }
   ],
   "source" : [
    "some_image = 9\n",
    "\n",
    "plt.figure(figsize=(8,12))\n",
    "plt.subplot(1,3,1)\n",
    "plot_image(np.reshape(X_test[some_image],(51,71)))\n",
    "plt.subplot(1,3,2)\n",
    "plot_image(np.reshape(y_test[some_image],(51,71)))\n",
    "plt.subplot(1,3,3)\n",
    "plot_image(np.reshape(y_pred[some_image],(51,71)))"
   ]
  },
  {
   "cell_type" : "code",
   "execution_count" : 40,
   "metadata" : { },
   "outputs" : [
    {
     "data" : {
      "text/plain" : [
       "0.5245048696511984"
      ]
     },
     "execution_count" : 40,
     "metadata" : { },
     "output_type" : "execute_result"
    }
   ],
   "source" : [
    "true_positive = np.sum(np.where(y_pred + y_test == 2, 1, 0), axis = 1)\n",
    "false_positive = np.sum(np.where(y_pred - y_test == 1, 1, 0), axis = 1)\n",
    "false_negative = np.sum(np.where(y_pred - y_test == -1, 1, 0), axis = 1)\n",
    "\n",
    "iou = true_positive / (false_positive + true_positive + false_negative)\n",
    "np.mean(iou)"
   ]
  },
  {
   "cell_type" : "markdown",
   "metadata" : { },
   "source" : [
    "## Fine-Tuning the Model\n",
    "To get the maximun score of the model we will need to choose the correct hyperparameters. In this classifier the most important hyperparameter is the number of neighbors with whom the model will compare the labels (k).\n",
    "\n",
    "For this case we will use cross-validation ussing 5 different folds."
   ]
  },
  {
   "cell_type" : "code",
   "execution_count" : null,
   "metadata" : { },
   "outputs" : [ ],
   "source" : [
    "num_folds = 5\n",
    "k_choices = [1, 3, 5, 8, 10, 12, 15, 20, 50, 100]\n",
    "\n",
    "X_train_folds = np.array_split(X_train, num_folds)\n",
    "y_train_folds = np.array_split(y_train, num_folds)\n",
    "\n",
    "k_to_accuracies = {}\n",
    "\n",
    "num_test_fold = X_train_folds[0].shape[0]\n",
    "for k_value in k_choices:\n",
    "    k_list = []\n",
    "    for fold_index in range(num_folds): \n",
    "        # Train classifier\n",
    "        val_set = X_train_folds.pop(fold_index)\n",
    "        val_lbl = y_train_folds.pop(fold_index)\n",
    "        X_fold = np.vstack(X_train_folds)\n",
    "        y_fold = np.hstack(y_train_folds)\n",
    "        classifier = KNearestNeighbor()\n",
    "        classifier.train(X_fold, y_fold)\n",
    "        \n",
    "        # Calculate the accuracy\n",
    "        y_test_pred = classifier.predict(val_set, k=k_value)\n",
    "        true_positive = np.sum(np.where(y_pred + y_test == 2, 1, 0), axis = 1)\n",
    "        false_positive = np.sum(np.where(y_pred - y_test == 1, 1, 0), axis = 1)\n",
    "        false_negative = np.sum(np.where(y_pred - y_test == -1, 1, 0), axis = 1)\n",
    "\n",
    "        iou = np.mean(true_positive / (false_positive + true_positive + false_negative))   \n",
    "        k_list.append(iou)\n",
    "        \n",
    "        # Restore the varables\n",
    "        X_train_folds = np.array_split(X_train, num_folds)\n",
    "        y_train_folds = np.array_split(y_train, num_folds)\n",
    "        \n",
    "    k_to_accuracies[k_value] = k_list\n",
    "    \n",
    "for k in sorted(k_to_accuracies):\n",
    "    for accuracy in k_to_accuracies[k]:\n",
    "        print('k = %d, accuracy = %f' % (k, accuracy))"
   ]
  },
  {
   "cell_type" : "code",
   "execution_count" : 54,
   "metadata" : { },
   "outputs" : [ ],
   "source" : [
    "import pandas as pd"
   ]
  },
  {
   "cell_type" : "code",
   "execution_count" : 55,
   "metadata" : { },
   "outputs" : [ ],
   "source" : [
    "results_df = pd.DataFrame(\n",
    "    [(true_positive[i], false_positive[i], false_negative[i])\n",
    "     for i in range(len(false_negative))],\n",
    "    columns=['true_positive', 'false_positive', 'false_negative'])"
   ]
  },
  {
   "cell_type" : "code",
   "execution_count" : 60,
   "metadata" : { },
   "outputs" : [ ],
   "source" : [
    "results_df['precision'] = results_df['true_positive']/(results_df['true_positive']+results_df['false_positive'])\n",
    "results_df['recall'] = results_df['true_positive']/(results_df['true_positive']+results_df['false_negative'])"
   ]
  },
  {
   "cell_type" : "code",
   "execution_count" : 62,
   "metadata" : { },
   "outputs" : [
    {
     "data" : {
      "text/plain" : [
       "0.7587402204996166"
      ]
     },
     "execution_count" : 62,
     "metadata" : { },
     "output_type" : "execute_result"
    }
   ],
   "source" : [
    "results_df['precision'].mean()"
   ]
  },
  {
   "cell_type" : "code",
   "execution_count" : 63,
   "metadata" : { },
   "outputs" : [
    {
     "data" : {
      "text/plain" : [
       "0.6076917865113795"
      ]
     },
     "execution_count" : 63,
     "metadata" : { },
     "output_type" : "execute_result"
    }
   ],
   "source" : [
    "results_df['recall'].mean()"
   ]
  },
  {
   "cell_type" : "code",
   "execution_count" : 61,
   "metadata" : { },
   "outputs" : [
    {
     "data" : {
      "text/html" : [
       "<div>\n",
       "<style scoped>\n",
       "    .dataframe tbody tr th:only-of-type {\n",
       "        vertical-align: middle;\n",
       "    }\n",
       "\n",
       "    .dataframe tbody tr th {\n",
       "        vertical-align: top;\n",
       "    }\n",
       "\n",
       "    .dataframe thead th {\n",
       "        text-align: right;\n",
       "    }\n",
       "</style>\n",
       "<table border=\"1\" class=\"dataframe\">\n",
       "  <thead>\n",
       "    <tr style=\"text-align: right;\">\n",
       "      <th></th>\n",
       "      <th>true_positive</th>\n",
       "      <th>false_positive</th>\n",
       "      <th>false_negative</th>\n",
       "      <th>precision</th>\n",
       "      <th>recall</th>\n",
       "    </tr>\n",
       "  </thead>\n",
       "  <tbody>\n",
       "    <tr>\n",
       "      <th>0</th>\n",
       "      <td>115</td>\n",
       "      <td>3</td>\n",
       "      <td>121</td>\n",
       "      <td>0.974576</td>\n",
       "      <td>0.487288</td>\n",
       "    </tr>\n",
       "    <tr>\n",
       "      <th>1</th>\n",
       "      <td>149</td>\n",
       "      <td>9</td>\n",
       "      <td>28</td>\n",
       "      <td>0.943038</td>\n",
       "      <td>0.841808</td>\n",
       "    </tr>\n",
       "    <tr>\n",
       "      <th>2</th>\n",
       "      <td>36</td>\n",
       "      <td>12</td>\n",
       "      <td>1</td>\n",
       "      <td>0.750000</td>\n",
       "      <td>0.972973</td>\n",
       "    </tr>\n",
       "    <tr>\n",
       "      <th>3</th>\n",
       "      <td>42</td>\n",
       "      <td>5</td>\n",
       "      <td>22</td>\n",
       "      <td>0.893617</td>\n",
       "      <td>0.656250</td>\n",
       "    </tr>\n",
       "    <tr>\n",
       "      <th>4</th>\n",
       "      <td>23</td>\n",
       "      <td>22</td>\n",
       "      <td>2</td>\n",
       "      <td>0.511111</td>\n",
       "      <td>0.920000</td>\n",
       "    </tr>\n",
       "    <tr>\n",
       "      <th>5</th>\n",
       "      <td>5</td>\n",
       "      <td>7</td>\n",
       "      <td>4</td>\n",
       "      <td>0.416667</td>\n",
       "      <td>0.555556</td>\n",
       "    </tr>\n",
       "    <tr>\n",
       "      <th>6</th>\n",
       "      <td>79</td>\n",
       "      <td>24</td>\n",
       "      <td>30</td>\n",
       "      <td>0.766990</td>\n",
       "      <td>0.724771</td>\n",
       "    </tr>\n",
       "    <tr>\n",
       "      <th>7</th>\n",
       "      <td>139</td>\n",
       "      <td>6</td>\n",
       "      <td>54</td>\n",
       "      <td>0.958621</td>\n",
       "      <td>0.720207</td>\n",
       "    </tr>\n",
       "    <tr>\n",
       "      <th>8</th>\n",
       "      <td>4</td>\n",
       "      <td>1</td>\n",
       "      <td>1</td>\n",
       "      <td>0.800000</td>\n",
       "      <td>0.800000</td>\n",
       "    </tr>\n",
       "    <tr>\n",
       "      <th>9</th>\n",
       "      <td>0</td>\n",
       "      <td>0</td>\n",
       "      <td>9</td>\n",
       "      <td>NaN</td>\n",
       "      <td>0.000000</td>\n",
       "    </tr>\n",
       "    <tr>\n",
       "      <th>10</th>\n",
       "      <td>138</td>\n",
       "      <td>1</td>\n",
       "      <td>25</td>\n",
       "      <td>0.992806</td>\n",
       "      <td>0.846626</td>\n",
       "    </tr>\n",
       "    <tr>\n",
       "      <th>11</th>\n",
       "      <td>58</td>\n",
       "      <td>10</td>\n",
       "      <td>11</td>\n",
       "      <td>0.852941</td>\n",
       "      <td>0.840580</td>\n",
       "    </tr>\n",
       "    <tr>\n",
       "      <th>12</th>\n",
       "      <td>2</td>\n",
       "      <td>3</td>\n",
       "      <td>7</td>\n",
       "      <td>0.400000</td>\n",
       "      <td>0.222222</td>\n",
       "    </tr>\n",
       "    <tr>\n",
       "      <th>13</th>\n",
       "      <td>136</td>\n",
       "      <td>0</td>\n",
       "      <td>58</td>\n",
       "      <td>1.000000</td>\n",
       "      <td>0.701031</td>\n",
       "    </tr>\n",
       "    <tr>\n",
       "      <th>14</th>\n",
       "      <td>0</td>\n",
       "      <td>0</td>\n",
       "      <td>9</td>\n",
       "      <td>NaN</td>\n",
       "      <td>0.000000</td>\n",
       "    </tr>\n",
       "    <tr>\n",
       "      <th>15</th>\n",
       "      <td>51</td>\n",
       "      <td>33</td>\n",
       "      <td>18</td>\n",
       "      <td>0.607143</td>\n",
       "      <td>0.739130</td>\n",
       "    </tr>\n",
       "    <tr>\n",
       "      <th>16</th>\n",
       "      <td>121</td>\n",
       "      <td>6</td>\n",
       "      <td>19</td>\n",
       "      <td>0.952756</td>\n",
       "      <td>0.864286</td>\n",
       "    </tr>\n",
       "    <tr>\n",
       "      <th>17</th>\n",
       "      <td>91</td>\n",
       "      <td>4</td>\n",
       "      <td>10</td>\n",
       "      <td>0.957895</td>\n",
       "      <td>0.900990</td>\n",
       "    </tr>\n",
       "    <tr>\n",
       "      <th>18</th>\n",
       "      <td>0</td>\n",
       "      <td>1</td>\n",
       "      <td>13</td>\n",
       "      <td>0.000000</td>\n",
       "      <td>0.000000</td>\n",
       "    </tr>\n",
       "    <tr>\n",
       "      <th>19</th>\n",
       "      <td>106</td>\n",
       "      <td>6</td>\n",
       "      <td>44</td>\n",
       "      <td>0.946429</td>\n",
       "      <td>0.706667</td>\n",
       "    </tr>\n",
       "    <tr>\n",
       "      <th>20</th>\n",
       "      <td>25</td>\n",
       "      <td>60</td>\n",
       "      <td>10</td>\n",
       "      <td>0.294118</td>\n",
       "      <td>0.714286</td>\n",
       "    </tr>\n",
       "    <tr>\n",
       "      <th>21</th>\n",
       "      <td>95</td>\n",
       "      <td>13</td>\n",
       "      <td>101</td>\n",
       "      <td>0.879630</td>\n",
       "      <td>0.484694</td>\n",
       "    </tr>\n",
       "    <tr>\n",
       "      <th>22</th>\n",
       "      <td>118</td>\n",
       "      <td>5</td>\n",
       "      <td>59</td>\n",
       "      <td>0.959350</td>\n",
       "      <td>0.666667</td>\n",
       "    </tr>\n",
       "    <tr>\n",
       "      <th>23</th>\n",
       "      <td>23</td>\n",
       "      <td>57</td>\n",
       "      <td>27</td>\n",
       "      <td>0.287500</td>\n",
       "      <td>0.460000</td>\n",
       "    </tr>\n",
       "    <tr>\n",
       "      <th>24</th>\n",
       "      <td>0</td>\n",
       "      <td>0</td>\n",
       "      <td>5</td>\n",
       "      <td>NaN</td>\n",
       "      <td>0.000000</td>\n",
       "    </tr>\n",
       "    <tr>\n",
       "      <th>25</th>\n",
       "      <td>58</td>\n",
       "      <td>11</td>\n",
       "      <td>11</td>\n",
       "      <td>0.840580</td>\n",
       "      <td>0.840580</td>\n",
       "    </tr>\n",
       "    <tr>\n",
       "      <th>26</th>\n",
       "      <td>168</td>\n",
       "      <td>10</td>\n",
       "      <td>25</td>\n",
       "      <td>0.943820</td>\n",
       "      <td>0.870466</td>\n",
       "    </tr>\n",
       "    <tr>\n",
       "      <th>27</th>\n",
       "      <td>0</td>\n",
       "      <td>0</td>\n",
       "      <td>5</td>\n",
       "      <td>NaN</td>\n",
       "      <td>0.000000</td>\n",
       "    </tr>\n",
       "    <tr>\n",
       "      <th>28</th>\n",
       "      <td>147</td>\n",
       "      <td>7</td>\n",
       "      <td>30</td>\n",
       "      <td>0.954545</td>\n",
       "      <td>0.830508</td>\n",
       "    </tr>\n",
       "    <tr>\n",
       "      <th>29</th>\n",
       "      <td>162</td>\n",
       "      <td>3</td>\n",
       "      <td>31</td>\n",
       "      <td>0.981818</td>\n",
       "      <td>0.839378</td>\n",
       "    </tr>\n",
       "    <tr>\n",
       "      <th>30</th>\n",
       "      <td>0</td>\n",
       "      <td>0</td>\n",
       "      <td>5</td>\n",
       "      <td>NaN</td>\n",
       "      <td>0.000000</td>\n",
       "    </tr>\n",
       "    <tr>\n",
       "      <th>31</th>\n",
       "      <td>111</td>\n",
       "      <td>6</td>\n",
       "      <td>21</td>\n",
       "      <td>0.948718</td>\n",
       "      <td>0.840909</td>\n",
       "    </tr>\n",
       "    <tr>\n",
       "      <th>32</th>\n",
       "      <td>103</td>\n",
       "      <td>6</td>\n",
       "      <td>60</td>\n",
       "      <td>0.944954</td>\n",
       "      <td>0.631902</td>\n",
       "    </tr>\n",
       "    <tr>\n",
       "      <th>33</th>\n",
       "      <td>97</td>\n",
       "      <td>25</td>\n",
       "      <td>16</td>\n",
       "      <td>0.795082</td>\n",
       "      <td>0.858407</td>\n",
       "    </tr>\n",
       "    <tr>\n",
       "      <th>34</th>\n",
       "      <td>140</td>\n",
       "      <td>2</td>\n",
       "      <td>56</td>\n",
       "      <td>0.985915</td>\n",
       "      <td>0.714286</td>\n",
       "    </tr>\n",
       "    <tr>\n",
       "      <th>35</th>\n",
       "      <td>89</td>\n",
       "      <td>7</td>\n",
       "      <td>67</td>\n",
       "      <td>0.927083</td>\n",
       "      <td>0.570513</td>\n",
       "    </tr>\n",
       "    <tr>\n",
       "      <th>36</th>\n",
       "      <td>3</td>\n",
       "      <td>6</td>\n",
       "      <td>10</td>\n",
       "      <td>0.333333</td>\n",
       "      <td>0.230769</td>\n",
       "    </tr>\n",
       "    <tr>\n",
       "      <th>37</th>\n",
       "      <td>141</td>\n",
       "      <td>3</td>\n",
       "      <td>66</td>\n",
       "      <td>0.979167</td>\n",
       "      <td>0.681159</td>\n",
       "    </tr>\n",
       "    <tr>\n",
       "      <th>38</th>\n",
       "      <td>158</td>\n",
       "      <td>8</td>\n",
       "      <td>19</td>\n",
       "      <td>0.951807</td>\n",
       "      <td>0.892655</td>\n",
       "    </tr>\n",
       "    <tr>\n",
       "      <th>39</th>\n",
       "      <td>175</td>\n",
       "      <td>5</td>\n",
       "      <td>100</td>\n",
       "      <td>0.972222</td>\n",
       "      <td>0.636364</td>\n",
       "    </tr>\n",
       "    <tr>\n",
       "      <th>40</th>\n",
       "      <td>114</td>\n",
       "      <td>6</td>\n",
       "      <td>25</td>\n",
       "      <td>0.950000</td>\n",
       "      <td>0.820144</td>\n",
       "    </tr>\n",
       "    <tr>\n",
       "      <th>41</th>\n",
       "      <td>0</td>\n",
       "      <td>3</td>\n",
       "      <td>5</td>\n",
       "      <td>0.000000</td>\n",
       "      <td>0.000000</td>\n",
       "    </tr>\n",
       "    <tr>\n",
       "      <th>42</th>\n",
       "      <td>57</td>\n",
       "      <td>19</td>\n",
       "      <td>18</td>\n",
       "      <td>0.750000</td>\n",
       "      <td>0.760000</td>\n",
       "    </tr>\n",
       "    <tr>\n",
       "      <th>43</th>\n",
       "      <td>149</td>\n",
       "      <td>7</td>\n",
       "      <td>126</td>\n",
       "      <td>0.955128</td>\n",
       "      <td>0.541818</td>\n",
       "    </tr>\n",
       "    <tr>\n",
       "      <th>44</th>\n",
       "      <td>66</td>\n",
       "      <td>8</td>\n",
       "      <td>3</td>\n",
       "      <td>0.891892</td>\n",
       "      <td>0.956522</td>\n",
       "    </tr>\n",
       "    <tr>\n",
       "      <th>45</th>\n",
       "      <td>192</td>\n",
       "      <td>1</td>\n",
       "      <td>61</td>\n",
       "      <td>0.994819</td>\n",
       "      <td>0.758893</td>\n",
       "    </tr>\n",
       "    <tr>\n",
       "      <th>46</th>\n",
       "      <td>0</td>\n",
       "      <td>4</td>\n",
       "      <td>5</td>\n",
       "      <td>0.000000</td>\n",
       "      <td>0.000000</td>\n",
       "    </tr>\n",
       "    <tr>\n",
       "      <th>47</th>\n",
       "      <td>68</td>\n",
       "      <td>26</td>\n",
       "      <td>1</td>\n",
       "      <td>0.723404</td>\n",
       "      <td>0.985507</td>\n",
       "    </tr>\n",
       "    <tr>\n",
       "      <th>48</th>\n",
       "      <td>14</td>\n",
       "      <td>17</td>\n",
       "      <td>4</td>\n",
       "      <td>0.451613</td>\n",
       "      <td>0.777778</td>\n",
       "    </tr>\n",
       "    <tr>\n",
       "      <th>49</th>\n",
       "      <td>13</td>\n",
       "      <td>5</td>\n",
       "      <td>12</td>\n",
       "      <td>0.722222</td>\n",
       "      <td>0.520000</td>\n",
       "    </tr>\n",
       "  </tbody>\n",
       "</table>\n",
       "</div>"
      ],
      "text/plain" : [
       "    true_positive  false_positive  false_negative  precision    recall\n",
       "0             115               3             121   0.974576  0.487288\n",
       "1             149               9              28   0.943038  0.841808\n",
       "2              36              12               1   0.750000  0.972973\n",
       "3              42               5              22   0.893617  0.656250\n",
       "4              23              22               2   0.511111  0.920000\n",
       "5               5               7               4   0.416667  0.555556\n",
       "6              79              24              30   0.766990  0.724771\n",
       "7             139               6              54   0.958621  0.720207\n",
       "8               4               1               1   0.800000  0.800000\n",
       "9               0               0               9        NaN  0.000000\n",
       "10            138               1              25   0.992806  0.846626\n",
       "11             58              10              11   0.852941  0.840580\n",
       "12              2               3               7   0.400000  0.222222\n",
       "13            136               0              58   1.000000  0.701031\n",
       "14              0               0               9        NaN  0.000000\n",
       "15             51              33              18   0.607143  0.739130\n",
       "16            121               6              19   0.952756  0.864286\n",
       "17             91               4              10   0.957895  0.900990\n",
       "18              0               1              13   0.000000  0.000000\n",
       "19            106               6              44   0.946429  0.706667\n",
       "20             25              60              10   0.294118  0.714286\n",
       "21             95              13             101   0.879630  0.484694\n",
       "22            118               5              59   0.959350  0.666667\n",
       "23             23              57              27   0.287500  0.460000\n",
       "24              0               0               5        NaN  0.000000\n",
       "25             58              11              11   0.840580  0.840580\n",
       "26            168              10              25   0.943820  0.870466\n",
       "27              0               0               5        NaN  0.000000\n",
       "28            147               7              30   0.954545  0.830508\n",
       "29            162               3              31   0.981818  0.839378\n",
       "30              0               0               5        NaN  0.000000\n",
       "31            111               6              21   0.948718  0.840909\n",
       "32            103               6              60   0.944954  0.631902\n",
       "33             97              25              16   0.795082  0.858407\n",
       "34            140               2              56   0.985915  0.714286\n",
       "35             89               7              67   0.927083  0.570513\n",
       "36              3               6              10   0.333333  0.230769\n",
       "37            141               3              66   0.979167  0.681159\n",
       "38            158               8              19   0.951807  0.892655\n",
       "39            175               5             100   0.972222  0.636364\n",
       "40            114               6              25   0.950000  0.820144\n",
       "41              0               3               5   0.000000  0.000000\n",
       "42             57              19              18   0.750000  0.760000\n",
       "43            149               7             126   0.955128  0.541818\n",
       "44             66               8               3   0.891892  0.956522\n",
       "45            192               1              61   0.994819  0.758893\n",
       "46              0               4               5   0.000000  0.000000\n",
       "47             68              26               1   0.723404  0.985507\n",
       "48             14              17               4   0.451613  0.777778\n",
       "49             13               5              12   0.722222  0.520000"
      ]
     },
     "execution_count" : 61,
     "metadata" : { },
     "output_type" : "execute_result"
    }
   ],
   "source" : [
    "results_df"
   ]
  },
  {
   "cell_type" : "code",
   "execution_count" : 52,
   "metadata" : { },
   "outputs" : [
    {
     "name" : "stdout",
     "output_type" : "stream",
     "text" : [
      "false negative:  [121  28   1  22   2   4  30  54   1   9  25  11   7  58   9  18  19  10\n",
      "  13  44  10 101  59  27   5  11  25   5  30  31   5  21  60  16  56  67\n",
      "  10  66  19 100  25   5  18 126   3  61   5   1   4  12]\n",
      "false positive:  [ 3  9 12  5 22  7 24  6  1  0  1 10  3  0  0 33  6  4  1  6 60 13  5 57\n",
      "  0 11 10  0  7  3  0  6  6 25  2  7  6  3  8  5  6  3 19  7  8  1  4 26\n",
      " 17  5]\n",
      "true positive: [115 149  36  42  23   5  79 139   4   0 138  58   2 136   0  51 121  91\n",
      "   0 106  25  95 118  23   0  58 168   0 147 162   0 111 103  97 140  89\n",
      "   3 141 158 175 114   0  57 149  66 192   0  68  14  13]\n"
     ]
    }
   ],
   "source" : [
    "print('false negative: ' , false_negative)\n",
    "print('false positive: ', false_positive)\n",
    "print('true positive:', true_positive)"
   ]
  },
  {
   "cell_type" : "code",
   "execution_count" : null,
   "metadata" : { },
   "outputs" : [ ],
   "source" : [ ]
  }
 ],
 "metadata" : {
  "kernelspec" : {
   "display_name" : "Python 3",
   "language" : "python",
   "name" : "python3"
  },
  "language_info" : {
   "codemirror_mode" : {
    "name" : "ipython",
    "version" : 3
   },
   "file_extension" : ".py",
   "mimetype" : "text/x-python",
   "name" : "python",
   "nbconvert_exporter" : "python",
   "pygments_lexer" : "ipython3",
   "version" : "3.6.5"
  },
  "pycharm" : {
   "stem_cell" : {
    "cell_type" : "raw",
    "source" : [ ],
    "metadata" : {
     "collapsed" : false
    }
   }
  }
 },
 "nbformat" : 4,
 "nbformat_minor" : 1
}