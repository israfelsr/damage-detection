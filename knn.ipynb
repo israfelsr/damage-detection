{
 "cells": [
  {
   "cell_type": "markdown",
   "metadata": {
    "collapsed": true,
    "pycharm": {
     "name": "#%% md\n"
    }
   },
   "source": [
    "# k-Nearest Neighbors Classification\n",
    "\n",
    "This notebooks uses a simple kNN classifier that segmented the image detecting between damage and not damage.\n",
    "Image segmentation follows the following propierties:\n",
    "- Pixels from the same regions have similar greyscale of multivariate values.\n",
    "- Adjacent pixels present in different regions have different values.\n",
    "\n",
    "Also some of the hypterparaters of the kNN classifier to have in account are:\n",
    "- Value of k. Number of neighbours.\n",
    "- Measire of a distance (eg. Euclidean, Manhattan).\n",
    "- If ussing Soft-kNN, way to combine the information of more than one observation\n",
    "- Dominance of points (equally weighted or some points are dominating).\n",
    "\n",
    "For this excercise we will use the euclidean distance and we will use cross-validation to find the best k. \n",
    "We will also try to compare how data preprocessing will affect the performance of the classifier.\n",
    "\n",
    "### Set Up"
   ]
  },
  {
   "cell_type": "code",
   "execution_count": 1,
   "metadata": {
    "pycharm": {
     "name": "#%%\n"
    }
   },
   "outputs": [],
   "source": [
    "# Common imports\n",
    "import random\n",
    "import numpy as np\n",
    "from utils.data_utils import load_data\n",
    "\n",
    "# Nice plots\n",
    "%matplotlib inline \n",
    "import matplotlib\n",
    "import matplotlib.pyplot as plt\n",
    "plt.rcParams['axes.labelsize'] = 14\n",
    "plt.rcParams['xtick.labelsize'] = 12\n",
    "plt.rcParams['ytick.labelsize'] = 12\n",
    "\n",
    "# Keep notebook stable across the run\n",
    "np.random.seed(42)"
   ]
  },
  {
   "cell_type": "markdown",
   "metadata": {},
   "source": [
    "### Load data"
   ]
  },
  {
   "cell_type": "code",
   "execution_count": 2,
   "metadata": {},
   "outputs": [
    {
     "name": "stdout",
     "output_type": "stream",
     "text": [
      "Training data shape:  (2400, 51, 71)\n",
      "Training labels shape:  (2400, 51, 71)\n",
      "Test data shape:  (600, 51, 71)\n",
      "Test labels shape:  (600, 51, 71)\n"
     ]
    }
   ],
   "source": [
    "filename = 'datasets/Deltas3.mat'\n",
    "\n",
    "# This is a precaution: clean the data before start using it\n",
    "try:\n",
    "    del X_train, y_train\n",
    "    del X_test, y_test\n",
    "except:\n",
    "    pass\n",
    "\n",
    "# load_data\n",
    "X_train, X_test, y_train, y_test = load_data(filename)\n",
    "\n",
    "print('Training data shape: ', X_train.shape)\n",
    "print('Training labels shape: ', y_train.shape)\n",
    "print('Test data shape: ', X_test.shape)\n",
    "print('Test labels shape: ', y_test.shape)"
   ]
  },
  {
   "cell_type": "markdown",
   "metadata": {},
   "source": [
    "### Exploring the data"
   ]
  },
  {
   "cell_type": "code",
   "execution_count": 3,
   "metadata": {},
   "outputs": [],
   "source": [
    "#Some usefull functions to plot the images.\n",
    "def plot_gray_image(image):\n",
    "    plt.imshow(image, cmap='gray', interpolation='nearest')\n",
    "    plt.axis('off')\n",
    "    \n",
    "def plot_color_image(image):\n",
    "    plt.imshow(image.astype(np.unit8), interpolation='nearest')\n",
    "    plt.axis('off')\n",
    "\n",
    "def plot_image(image, color=False):\n",
    "    #image = data.reshape(51,71)\n",
    "    if color:\n",
    "        plot_color_image(image)\n",
    "    else:\n",
    "        plot_gray_image(image)"
   ]
  },
  {
   "cell_type": "code",
   "execution_count": 4,
   "metadata": {},
   "outputs": [
    {
     "data": {
      "image/png": "[encoded data removed]",
      "text/plain": [
       "<Figure size 576x864 with 2 Axes>"
      ]
     },
     "metadata": {
      "needs_background": "light"
     },
     "output_type": "display_data"
    }
   ],
   "source": [
    "some_image = 701\n",
    "plt.figure(figsize=(8,12))\n",
    "plt.subplot(1,2,1)\n",
    "plot_image(X_train[some_image])\n",
    "plt.title('Index of damage')\n",
    "plt.subplot(1,2,2)\n",
    "plot_image(y_train[some_image])\n",
    "plt.title('Damage')\n",
    "plt.show()"
   ]
  },
  {
   "cell_type": "markdown",
   "metadata": {},
   "source": [
    "## Data Preprocessing \n",
    "\n",
    "In this first study we will just subsample the data for a quick run and vectorize the matrices."
   ]
  },
  {
   "cell_type": "code",
   "execution_count": 5,
   "metadata": {},
   "outputs": [
    {
     "name": "stdout",
     "output_type": "stream",
     "text": [
      "(2400, 3621) (50, 3621)\n",
      "(2400, 3621) (50, 3621)\n"
     ]
    }
   ],
   "source": [
    "# Subsample the data for more efficient code execution in this exercise\n",
    "num_test = 50\n",
    "mask = list(range(num_test))\n",
    "X_test = X_test[mask]\n",
    "y_test = y_test[mask]\n",
    "\n",
    "# Reshape the image data into rows\n",
    "X_train = np.reshape(X_train, (X_train.shape[0], -1))\n",
    "X_test = np.reshape(X_test, (X_test.shape[0], -1))\n",
    "y_train = np.reshape(y_train, (y_train.shape[0], -1))\n",
    "y_test = np.reshape(y_test, (y_test.shape[0], -1))\n",
    "print(X_train.shape, X_test.shape)\n",
    "print(y_train.shape, y_test.shape)"
   ]
  },
  {
   "cell_type": "markdown",
   "metadata": {},
   "source": [
    "Now, the data is ready to be passed trought a classifier. We will try to use the kNN to classify whether a pixel in an index image is part of the damage zone or not. Just remember that this classifier consist in two steps:\n",
    "- It calculates the distance between the analized pixel and the training data.\n",
    "- Then, it choose the label comparing with the k nearest neighbors.\n",
    "\n",
    "As we want an output the same size of the image we implemented the kNN in a little different way to the typical one. We calculate the distance pixel-wise so at the end of the process each pixel in a test image has a distance to all the pixels in the same position of the training data. As you can imagine, this process is computational expensive that's why we use such a small amount of test data.\n",
    "\n",
    "Note that this is one of the main problems of kNN. Since the trainig function is a constant process, the predict function computation grows as we increase the test set."
   ]
  },
  {
   "cell_type": "code",
   "execution_count": 6,
   "metadata": {},
   "outputs": [
    {
     "data": {
      "text/plain": [
       "(50, 2400, 3621)"
      ]
     },
     "execution_count": 6,
     "metadata": {},
     "output_type": "execute_result"
    }
   ],
   "source": [
    "from classifiers.k_nearest_neighbor import KNearestNeighbor\n",
    "knn_clf = KNearestNeighbor()\n",
    "knn_clf.train(X_train, y_train)\n",
    "\n",
    "dists = knn_clf.predict(X_test)\n",
    "dists.shape"
   ]
  },
  {
   "cell_type": "code",
   "execution_count": 7,
   "metadata": {},
   "outputs": [
    {
     "name": "stdout",
     "output_type": "stream",
     "text": [
      "10 EPOCH\n",
      "20 EPOCH\n",
      "30 EPOCH\n",
      "40 EPOCH\n",
      "50 EPOCH\n"
     ]
    }
   ],
   "source": [
    "# Now implement the function predict_labels and run the code below:\n",
    "# We use k = 1 (which is Nearest Neighbor).\n",
    "\n",
    "y_pred = knn_clf.predict_labels(dists, k=1)"
   ]
  },
  {
   "cell_type": "code",
   "execution_count": 8,
   "metadata": {},
   "outputs": [
    {
     "data": {
      "image/png": "[encoded data removed]",
      "text/plain": [
       "<Figure size 576x864 with 3 Axes>"
      ]
     },
     "metadata": {
      "needs_background": "light"
     },
     "output_type": "display_data"
    }
   ],
   "source": [
    "# Let's see the result of the 1-NN\n",
    "\n",
    "some_image = 6\n",
    "plt.figure(figsize=(8,12))\n",
    "plt.subplot(1,3,1)\n",
    "plot_image(np.reshape(X_test[some_image],(51,71)))\n",
    "plt.subplot(1,3,2)\n",
    "plot_image(np.reshape(y_test[some_image],(51,71)))\n",
    "plt.subplot(1,3,3)\n",
    "plot_image(np.reshape(y_pred[some_image],(51,71)))"
   ]
  },
  {
   "cell_type": "markdown",
   "metadata": {},
   "source": [
    "To evaluate the performance of the classifier we will use the intersection over union value. This is defined by:\n",
    "$$\n",
    "IoU = \\frac{TP}{FP+TP+FN}\n",
    "$$"
   ]
  },
  {
   "cell_type": "code",
   "execution_count": 26,
   "metadata": {},
   "outputs": [
    {
     "data": {
      "text/plain": [
       "0.19616831549245117"
      ]
     },
     "execution_count": 26,
     "metadata": {},
     "output_type": "execute_result"
    }
   ],
   "source": [
    "true_positive = np.sum(np.where(y_pred + y_test == 2, 1, 0), axis = 1)\n",
    "false_positive = np.sum(np.where(y_pred - y_test == 1, 1, 0), axis = 1)\n",
    "false_negative = np.sum(np.where(y_pred - y_test == -1, 1, 0), axis = 1)\n",
    "\n",
    "iou = true_positive / (false_positive + true_positive + false_negative)\n",
    "np.mean(iou)"
   ]
  },
  {
   "cell_type": "code",
   "execution_count": 27,
   "metadata": {},
   "outputs": [
    {
     "name": "stdout",
     "output_type": "stream",
     "text": [
      "10 EPOCH\n",
      "20 EPOCH\n",
      "30 EPOCH\n",
      "40 EPOCH\n",
      "50 EPOCH\n"
     ]
    }
   ],
   "source": [
    "y_pred = knn_clf.predict_labels(dists, k=5)"
   ]
  },
  {
   "cell_type": "code",
   "execution_count": 28,
   "metadata": {},
   "outputs": [
    {
     "data": {
      "image/png": "[encoded data removed]",
      "text/plain": [
       "<Figure size 576x864 with 3 Axes>"
      ]
     },
     "metadata": {
      "needs_background": "light"
     },
     "output_type": "display_data"
    }
   ],
   "source": [
    "some_image = 6\n",
    "\n",
    "plt.figure(figsize=(8,12))\n",
    "plt.subplot(1,3,1)\n",
    "plot_image(np.reshape(X_test[some_image],(51,71)))\n",
    "plt.subplot(1,3,2)\n",
    "plot_image(np.reshape(y_test[some_image],(51,71)))\n",
    "plt.subplot(1,3,3)\n",
    "plot_image(np.reshape(y_pred[some_image],(51,71)))"
   ]
  },
  {
   "cell_type": "code",
   "execution_count": 30,
   "metadata": {},
   "outputs": [
    {
     "data": {
      "text/plain": [
       "0.2004428782401561"
      ]
     },
     "execution_count": 30,
     "metadata": {},
     "output_type": "execute_result"
    }
   ],
   "source": [
    "true_positive = np.sum(np.where(y_pred + y_test == 2, 1, 0), axis = 1)\n",
    "false_positive = np.sum(np.where(y_pred - y_test == 1, 1, 0), axis = 1)\n",
    "false_negative = np.sum(np.where(y_pred - y_test == -1, 1, 0), axis = 1)\n",
    "\n",
    "iou = true_positive / (false_positive + true_positive + false_negative)\n",
    "np.mean(iou)"
   ]
  },
  {
   "cell_type": "code",
   "execution_count": null,
   "metadata": {},
   "outputs": [],
   "source": [
    "num_folds = 5\n",
    "k_choices = [1, 3, 5, 8, 10, 12, 15, 20, 50, 100]\n",
    "\n",
    "X_train_folds = []\n",
    "y_train_folds = []\n",
    "\n",
    "X_train_folds = np.array_split(X_train, num_folds)\n",
    "y_train_folds = np.array_split(y_train, num_folds)\n",
    "\n",
    "k_to_accuracies = {}\n",
    "\n",
    "num_test_fold = X_train_folds[0].shape[0]\n",
    "for k_value in k_choices:\n",
    "    k_list = []\n",
    "    for fold_index in range(num_folds): \n",
    "        # Train classifier\n",
    "        val_set = X_train_folds.pop(fold_index)\n",
    "        val_lbl = y_train_folds.pop(fold_index)\n",
    "        X_fold = np.vstack(X_train_folds)\n",
    "        y_fold = np.hstack(y_train_folds)\n",
    "        classifier = KNearestNeighbor()\n",
    "        classifier.train(X_fold, y_fold)\n",
    "        \n",
    "        # Calculate the accuracy\n",
    "        y_test_pred = classifier.predict(val_set, k=k_value)\n",
    "        true_positive = np.sum(np.where(y_pred + y_test == 2, 1, 0), axis = 1)\n",
    "        false_positive = np.sum(np.where(y_pred - y_test == 1, 1, 0), axis = 1)\n",
    "        false_negative = np.sum(np.where(y_pred - y_test == -1, 1, 0), axis = 1)\n",
    "\n",
    "        iou = np.mean(true_positive / (false_positive + true_positive + false_negative))   \n",
    "        k_list.append(iou)\n",
    "        \n",
    "        # Restore the varables\n",
    "        X_train_folds = np.array_split(X_train, num_folds)\n",
    "        y_train_folds = np.array_split(y_train, num_folds)\n",
    "        \n",
    "    k_to_accuracies[k_value] = k_list\n",
    "    \n",
    "for k in sorted(k_to_accuracies):\n",
    "    for accuracy in k_to_accuracies[k]:\n",
    "        print('k = %d, accuracy = %f' % (k, accuracy))"
   ]
  },
  {
   "cell_type": "code",
   "execution_count": null,
   "metadata": {},
   "outputs": [],
   "source": []
  }
 ],
 "metadata": {
  "kernelspec": {
   "display_name": "Python 3",
   "language": "python",
   "name": "python3"
  },
  "language_info": {
   "codemirror_mode": {
    "name": "ipython",
    "version": 3
   },
   "file_extension": ".py",
   "mimetype": "text/x-python",
   "name": "python",
   "nbconvert_exporter": "python",
   "pygments_lexer": "ipython3",
   "version": "3.6.5"
  },
  "pycharm": {
   "stem_cell": {
    "cell_type": "raw",
    "metadata": {
     "collapsed": false
    },
    "source": []
   }
  }
 },
 "nbformat": 4,
 "nbformat_minor": 1
}
